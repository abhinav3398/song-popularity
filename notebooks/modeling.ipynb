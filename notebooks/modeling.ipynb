{
 "cells": [
  {
   "cell_type": "markdown",
   "metadata": {},
   "source": [
    "# Model Building\n",
    "\n",
    "putting it all togather"
   ]
  },
  {
   "cell_type": "markdown",
   "metadata": {},
   "source": [
    "## Setting up"
   ]
  },
  {
   "cell_type": "code",
   "execution_count": 1,
   "id": "76d55aab",
   "metadata": {
    "execution": {
     "iopub.execute_input": "2022-01-23T19:11:23.964432Z",
     "iopub.status.busy": "2022-01-23T19:11:23.963235Z",
     "iopub.status.idle": "2022-01-23T19:11:25.232269Z",
     "shell.execute_reply": "2022-01-23T19:11:25.231514Z",
     "shell.execute_reply.started": "2022-01-23T18:57:12.092847Z"
    },
    "id": "jFUNjl9DDQ5W",
    "papermill": {
     "duration": 1.391481,
     "end_time": "2022-01-23T19:11:25.232471",
     "exception": false,
     "start_time": "2022-01-23T19:11:23.840990",
     "status": "completed"
    },
    "tags": []
   },
   "outputs": [],
   "source": [
    "import os, sys\n",
    "import random\n",
    "import warnings\n",
    "\n",
    "import numpy as np\n",
    "import pandas as pd\n",
    "import matplotlib as mpl\n",
    "import matplotlib.pyplot as plt\n",
    "import seaborn as sns\n",
    "import statsmodels.api as sm\n",
    "\n",
    "#For the plots\n",
    "%matplotlib inline\n",
    "mpl.rc('axes', labelsize=14)\n",
    "mpl.rc('xtick', labelsize=12)\n",
    "mpl.rc('ytick', labelsize=12)\n",
    "warnings.filterwarnings('ignore')\n",
    "plt.style.use('ggplot')"
   ]
  },
  {
   "cell_type": "markdown",
   "id": "20e89def",
   "metadata": {},
   "source": [
    "set random reed"
   ]
  },
  {
   "cell_type": "code",
   "execution_count": 2,
   "id": "01e7c2a5",
   "metadata": {},
   "outputs": [],
   "source": [
    "random_state = 42\n",
    "# np.random.seed = random_state\n",
    "rng = np.random.default_rng(random_state)"
   ]
  },
  {
   "cell_type": "code",
   "execution_count": 3,
   "id": "e34ad074",
   "metadata": {
    "execution": {
     "iopub.execute_input": "2022-01-23T19:11:25.474732Z",
     "iopub.status.busy": "2022-01-23T19:11:25.474052Z",
     "iopub.status.idle": "2022-01-23T19:11:25.739303Z",
     "shell.execute_reply": "2022-01-23T19:11:25.738546Z",
     "shell.execute_reply.started": "2022-01-23T18:57:13.416134Z"
    },
    "id": "OeqxIfFuPDnq",
    "papermill": {
     "duration": 0.388166,
     "end_time": "2022-01-23T19:11:25.739456",
     "exception": false,
     "start_time": "2022-01-23T19:11:25.351290",
     "status": "completed"
    },
    "tags": []
   },
   "outputs": [],
   "source": [
    "train = pd.read_csv('../data/processed/train.csv')\n",
    "train.drop(['id'], inplace=True, axis=1)\n",
    "\n",
    "test = pd.read_csv('../data/processed/test.csv')\n",
    "test.drop(['id'], inplace=True, axis=1)"
   ]
  },
  {
   "cell_type": "markdown",
   "metadata": {},
   "source": [
    "## Importing Data"
   ]
  },
  {
   "cell_type": "code",
   "execution_count": 4,
   "id": "201eb040",
   "metadata": {},
   "outputs": [],
   "source": [
    "col_y = 'song_popularity'\n",
    "\n",
    "X = train.copy()\n",
    "y = X.pop(col_y)"
   ]
  },
  {
   "cell_type": "code",
   "execution_count": 5,
   "id": "0ca7f5de",
   "metadata": {},
   "outputs": [],
   "source": [
    "mask = X.nunique() < 15\n",
    "categorical_cols = X.columns[mask]\n",
    "numerical_cols = [col for col in X.columns if col not in categorical_cols]"
   ]
  },
  {
   "cell_type": "code",
   "execution_count": 6,
   "id": "8bdeb06c",
   "metadata": {},
   "outputs": [
    {
     "data": {
      "text/plain": [
       "key               Float64Index([0.0, 1.0, 2.0, 3.0, 4.0, 5.0, 6....\n",
       "audio_mode                        Int64Index([0, 1], dtype='int64')\n",
       "time_signature              Int64Index([2, 3, 4, 5], dtype='int64')\n",
       "dtype: object"
      ]
     },
     "execution_count": 6,
     "metadata": {},
     "output_type": "execute_result"
    }
   ],
   "source": [
    "# convert audio_mode, key & time_signature column values to categorical\n",
    "X[categorical_cols] = train[categorical_cols].astype('category')\n",
    "# get levels of categorical columns\n",
    "X[categorical_cols].apply(lambda x: x.cat.categories)"
   ]
  },
  {
   "cell_type": "markdown",
   "metadata": {},
   "source": [
    "## Importing modeling & pre/post-processing libraries"
   ]
  },
  {
   "cell_type": "code",
   "execution_count": 7,
   "metadata": {},
   "outputs": [],
   "source": [
    "from sklearn.pipeline import Pipeline, FeatureUnion\n",
    "from sklearn.experimental import enable_iterative_imputer, enable_halving_search_cv\n",
    "from sklearn.impute import SimpleImputer, KNNImputer, MissingIndicator, IterativeImputer, MissingIndicator\n",
    "from sklearn.preprocessing import StandardScaler, OneHotEncoder, OrdinalEncoder, FunctionTransformer, MinMaxScaler, PowerTransformer, RobustScaler, power_transform, minmax_scale\n",
    "from sklearn.compose import ColumnTransformer\n",
    "from sklearn.base import BaseEstimator, TransformerMixin\n",
    "from sklearn.model_selection import StratifiedShuffleSplit, GridSearchCV, RandomizedSearchCV, HalvingGridSearchCV, HalvingRandomSearchCV\n",
    "from sklearn.metrics import roc_auc_score, make_scorer, accuracy_score, f1_score, precision_score, recall_score, confusion_matrix, roc_curve, auc, classification_report\n",
    "\n",
    "# import classifier models\n",
    "from sklearn.ensemble import RandomForestClassifier, GradientBoostingClassifier, AdaBoostClassifier, ExtraTreesClassifier, VotingClassifier, BaggingClassifier, StackingClassifier\n",
    "from sklearn.ensemble import IsolationForest\n",
    "from sklearn.linear_model import LogisticRegression, RidgeClassifier, RidgeClassifierCV, Lasso, LassoCV, ElasticNet, ElasticNetCV, LogisticRegressionCV, SGDClassifier, SGDRegressor, Ridge, LassoLarsCV, LassoLars, BayesianRidge\n",
    "from sklearn.tree import DecisionTreeClassifier, ExtraTreeClassifier, ExtraTreeRegressor\n",
    "from sklearn.neighbors import KNeighborsClassifier, LocalOutlierFactor\n",
    "from sklearn.svm import SVC, LinearSVC, NuSVC\n",
    "from sklearn.naive_bayes import GaussianNB\n",
    "from sklearn.discriminant_analysis import LinearDiscriminantAnalysis, QuadraticDiscriminantAnalysis\n",
    "\n",
    "\n",
    "sys.path.append(\"kuma_utils/\")\n",
    "from kuma_utils.preprocessing.imputer import LGBMImputer"
   ]
  },
  {
   "cell_type": "markdown",
   "metadata": {},
   "source": [
    "## building Preprocessors"
   ]
  },
  {
   "cell_type": "code",
   "execution_count": 12,
   "metadata": {},
   "outputs": [
    {
     "data": {
      "text/html": [
       "<div>\n",
       "<style scoped>\n",
       "    .dataframe tbody tr th:only-of-type {\n",
       "        vertical-align: middle;\n",
       "    }\n",
       "\n",
       "    .dataframe tbody tr th {\n",
       "        vertical-align: top;\n",
       "    }\n",
       "\n",
       "    .dataframe thead th {\n",
       "        text-align: right;\n",
       "    }\n",
       "</style>\n",
       "<table border=\"1\" class=\"dataframe\">\n",
       "  <thead>\n",
       "    <tr style=\"text-align: right;\">\n",
       "      <th></th>\n",
       "      <th>song_duration_ms</th>\n",
       "      <th>acousticness</th>\n",
       "      <th>danceability</th>\n",
       "      <th>energy</th>\n",
       "      <th>instrumentalness</th>\n",
       "      <th>key</th>\n",
       "      <th>liveness</th>\n",
       "      <th>loudness</th>\n",
       "      <th>audio_mode</th>\n",
       "      <th>speechiness</th>\n",
       "      <th>...</th>\n",
       "      <th>time_signature</th>\n",
       "      <th>audio_valence</th>\n",
       "      <th>_song_duration_ms_imputed_</th>\n",
       "      <th>_acousticness_imputed_</th>\n",
       "      <th>_danceability_imputed_</th>\n",
       "      <th>_energy_imputed_</th>\n",
       "      <th>_instrumentalness_imputed_</th>\n",
       "      <th>_key_imputed_</th>\n",
       "      <th>_liveness_imputed_</th>\n",
       "      <th>_loudness_imputed_</th>\n",
       "    </tr>\n",
       "  </thead>\n",
       "  <tbody>\n",
       "    <tr>\n",
       "      <th>0</th>\n",
       "      <td>212990.000000</td>\n",
       "      <td>0.642286</td>\n",
       "      <td>0.856520</td>\n",
       "      <td>0.707073</td>\n",
       "      <td>0.002001</td>\n",
       "      <td>10.0</td>\n",
       "      <td>0.177389</td>\n",
       "      <td>-5.619088</td>\n",
       "      <td>0.0</td>\n",
       "      <td>0.082570</td>\n",
       "      <td>...</td>\n",
       "      <td>4.0</td>\n",
       "      <td>0.734642</td>\n",
       "      <td>0.0</td>\n",
       "      <td>0.0</td>\n",
       "      <td>0.0</td>\n",
       "      <td>0.0</td>\n",
       "      <td>0.0</td>\n",
       "      <td>0.0</td>\n",
       "      <td>1.0</td>\n",
       "      <td>0.0</td>\n",
       "    </tr>\n",
       "    <tr>\n",
       "      <th>1</th>\n",
       "      <td>233847.746686</td>\n",
       "      <td>0.054866</td>\n",
       "      <td>0.733289</td>\n",
       "      <td>0.835545</td>\n",
       "      <td>0.000996</td>\n",
       "      <td>8.0</td>\n",
       "      <td>0.436428</td>\n",
       "      <td>-5.236965</td>\n",
       "      <td>1.0</td>\n",
       "      <td>0.127358</td>\n",
       "      <td>...</td>\n",
       "      <td>3.0</td>\n",
       "      <td>0.711531</td>\n",
       "      <td>1.0</td>\n",
       "      <td>0.0</td>\n",
       "      <td>0.0</td>\n",
       "      <td>0.0</td>\n",
       "      <td>0.0</td>\n",
       "      <td>0.0</td>\n",
       "      <td>0.0</td>\n",
       "      <td>0.0</td>\n",
       "    </tr>\n",
       "    <tr>\n",
       "      <th>2</th>\n",
       "      <td>193213.000000</td>\n",
       "      <td>0.094609</td>\n",
       "      <td>0.188387</td>\n",
       "      <td>0.783524</td>\n",
       "      <td>-0.002694</td>\n",
       "      <td>5.0</td>\n",
       "      <td>0.170499</td>\n",
       "      <td>-4.951759</td>\n",
       "      <td>0.0</td>\n",
       "      <td>0.052282</td>\n",
       "      <td>...</td>\n",
       "      <td>3.0</td>\n",
       "      <td>0.425536</td>\n",
       "      <td>0.0</td>\n",
       "      <td>1.0</td>\n",
       "      <td>0.0</td>\n",
       "      <td>0.0</td>\n",
       "      <td>0.0</td>\n",
       "      <td>0.0</td>\n",
       "      <td>0.0</td>\n",
       "      <td>0.0</td>\n",
       "    </tr>\n",
       "    <tr>\n",
       "      <th>3</th>\n",
       "      <td>249893.000000</td>\n",
       "      <td>0.488660</td>\n",
       "      <td>0.585234</td>\n",
       "      <td>0.552685</td>\n",
       "      <td>0.000608</td>\n",
       "      <td>0.0</td>\n",
       "      <td>0.094805</td>\n",
       "      <td>-7.893694</td>\n",
       "      <td>0.0</td>\n",
       "      <td>0.035618</td>\n",
       "      <td>...</td>\n",
       "      <td>3.0</td>\n",
       "      <td>0.453597</td>\n",
       "      <td>0.0</td>\n",
       "      <td>0.0</td>\n",
       "      <td>0.0</td>\n",
       "      <td>0.0</td>\n",
       "      <td>0.0</td>\n",
       "      <td>0.0</td>\n",
       "      <td>0.0</td>\n",
       "      <td>0.0</td>\n",
       "    </tr>\n",
       "    <tr>\n",
       "      <th>4</th>\n",
       "      <td>165969.000000</td>\n",
       "      <td>0.493017</td>\n",
       "      <td>0.532451</td>\n",
       "      <td>0.740982</td>\n",
       "      <td>0.002033</td>\n",
       "      <td>10.0</td>\n",
       "      <td>0.094891</td>\n",
       "      <td>-2.684095</td>\n",
       "      <td>0.0</td>\n",
       "      <td>0.050746</td>\n",
       "      <td>...</td>\n",
       "      <td>4.0</td>\n",
       "      <td>0.741311</td>\n",
       "      <td>0.0</td>\n",
       "      <td>0.0</td>\n",
       "      <td>1.0</td>\n",
       "      <td>0.0</td>\n",
       "      <td>0.0</td>\n",
       "      <td>0.0</td>\n",
       "      <td>0.0</td>\n",
       "      <td>0.0</td>\n",
       "    </tr>\n",
       "  </tbody>\n",
       "</table>\n",
       "<p>5 rows × 21 columns</p>\n",
       "</div>"
      ],
      "text/plain": [
       "   song_duration_ms  acousticness  danceability    energy  instrumentalness  \\\n",
       "0     212990.000000      0.642286      0.856520  0.707073          0.002001   \n",
       "1     233847.746686      0.054866      0.733289  0.835545          0.000996   \n",
       "2     193213.000000      0.094609      0.188387  0.783524         -0.002694   \n",
       "3     249893.000000      0.488660      0.585234  0.552685          0.000608   \n",
       "4     165969.000000      0.493017      0.532451  0.740982          0.002033   \n",
       "\n",
       "    key  liveness  loudness  audio_mode  speechiness  ...  time_signature  \\\n",
       "0  10.0  0.177389 -5.619088         0.0     0.082570  ...             4.0   \n",
       "1   8.0  0.436428 -5.236965         1.0     0.127358  ...             3.0   \n",
       "2   5.0  0.170499 -4.951759         0.0     0.052282  ...             3.0   \n",
       "3   0.0  0.094805 -7.893694         0.0     0.035618  ...             3.0   \n",
       "4  10.0  0.094891 -2.684095         0.0     0.050746  ...             4.0   \n",
       "\n",
       "   audio_valence  _song_duration_ms_imputed_  _acousticness_imputed_  \\\n",
       "0       0.734642                         0.0                     0.0   \n",
       "1       0.711531                         1.0                     0.0   \n",
       "2       0.425536                         0.0                     1.0   \n",
       "3       0.453597                         0.0                     0.0   \n",
       "4       0.741311                         0.0                     0.0   \n",
       "\n",
       "   _danceability_imputed_  _energy_imputed_  _instrumentalness_imputed_  \\\n",
       "0                     0.0               0.0                         0.0   \n",
       "1                     0.0               0.0                         0.0   \n",
       "2                     0.0               0.0                         0.0   \n",
       "3                     0.0               0.0                         0.0   \n",
       "4                     1.0               0.0                         0.0   \n",
       "\n",
       "   _key_imputed_  _liveness_imputed_  _loudness_imputed_  \n",
       "0            0.0                 1.0                 0.0  \n",
       "1            0.0                 0.0                 0.0  \n",
       "2            0.0                 0.0                 0.0  \n",
       "3            0.0                 0.0                 0.0  \n",
       "4            0.0                 0.0                 0.0  \n",
       "\n",
       "[5 rows x 21 columns]"
      ]
     },
     "execution_count": 12,
     "metadata": {},
     "output_type": "execute_result"
    }
   ],
   "source": [
    "from sklearn.impute import KNNImputer\n",
    "\n",
    "knn_imptr = KNNImputer(n_neighbors=5, weights=\"distance\", add_indicator=True)\n",
    "train_knnimp = knn_imptr.fit_transform(X[X.columns].copy())\n",
    "mask = X.isna().any(axis=0)\n",
    "imputed_col_names = [\"_\"+col+\"_imputed_\" for col in mask[mask].index]\n",
    "\n",
    "train_knnimp = pd.DataFrame(train_knnimp, columns=X.columns.tolist()+imputed_col_names)\n",
    "train_knnimp.head()"
   ]
  },
  {
   "cell_type": "code",
   "execution_count": null,
   "metadata": {},
   "outputs": [],
   "source": [
    "# sys.path.append(\"kuma_utils/\")\n",
    "# from kuma_utils.preprocessing.imputer import LGBMImputer\n",
    "\n",
    "# lgbm_imtr = LGBMImputer(n_iter=100, verbose=True)\n",
    "\n",
    "# train_lgbmimp = lgbm_imtr.fit_transform((X[X.columns].copy())\n",
    "# train_lgbmimp = pd.DataFrame(train_lgbmimp, columns=X.columns)"
   ]
  },
  {
   "cell_type": "markdown",
   "metadata": {},
   "source": [
    "### Custom transformations for each column"
   ]
  },
  {
   "cell_type": "code",
   "execution_count": null,
   "metadata": {},
   "outputs": [],
   "source": [
    "# columns used for inverse sigmoid transformation\n",
    "col_sig = [\n",
    "    'acousticness',\n",
    "    'danceability',\n",
    "    'energy',\n",
    "    'instrumentalness',\n",
    "    'liveness',\n",
    "    'speechiness',\n",
    "    'audio_valence',\n",
    "]\n",
    "\n",
    "col_pow = [\n",
    "    'song_duration_ms',\n",
    "    'tempo',\n",
    "]\n",
    "\n",
    "# make a custom transformer to transform the data\n",
    "class PreProcessorTransformer(BaseEstimator, TransformerMixin):\n",
    "    def __init__(self, cols, show_impute=False, inplace=False):\n",
    "        self.show_impute = show_impute\n",
    "        self.inplace = inplace\n",
    "        self.col_sig, self.col_pow, self.loudness = cols\n",
    "        self.cols = self.col_sig + self.col_pow\n",
    "        self.inv_sigmoid = FunctionTransformer(lambda x: np.log(x / (1-x)))\n",
    "        self.loudness_transformer = FunctionTransformer(lambda x: np.log1p(-x))\n",
    "        \n",
    "    def fit(self, X, y=None):\n",
    "            \n",
    "        self.scaler = MinMaxScaler(feature_range=(0+1e-6, 1-1e-6)).fit(X[self.col_sig])\n",
    "        \n",
    "        X_tmp = X[self.col_sig+self.col_pow].copy()\n",
    "        X_tmp[self.col_sig] = self.scaler.transform(X_tmp[self.col_sig])\n",
    "        X_tmp[self.col_sig] = self.inv_sigmoid.fit_transform(X_tmp[self.col_sig])\n",
    "        \n",
    "        self.transformer = PowerTransformer().fit(X_tmp)\n",
    "\n",
    "        return self\n",
    "    \n",
    "    def transform(self, X):\n",
    "\n",
    "        if not self.inplace:\n",
    "            X = X.copy()\n",
    "        \n",
    "        X[self.col_sig] = self.scaler.transform(X[self.col_sig])\n",
    "        X[self.col_sig] = self.inv_sigmoid.fit_transform(X[self.col_sig])\n",
    "    #    # Box-Cox transformation\n",
    "        X[self.col_sig+self.col_pow] = self.transformer.transform(X[self.col_sig+self.col_pow])\n",
    "        X[self.loudness] = self.loudness_transformer.fit_transform(X[self.loudness])\n",
    "        \n",
    "        return X\n",
    "\n",
    "class OutlierRemover(BaseEstimator, TransformerMixin):\n",
    "    def __init__(self, **kwrgs):\n",
    "        self.outlier_remover = LocalOutlierFactor(**kwrgs)\n",
    "        pass\n",
    "\n",
    "    def fit(self, X, y=None):\n",
    "        return self\n",
    "\n",
    "    def transform(self, X, y=None):\n",
    "        y_hat = self.outlier_remover.fit_predict(X)\n",
    "        mask = y_hat != -1\n",
    "        y = y if not y is None else np.zeros(X.shape[0])\n",
    "        return X.iloc[mask, :], y[mask]\n",
    "\n",
    "\n",
    "transformer = PreProcessorTransformer([col_sig, col_pow, 'loudness'])\n",
    "outlier_remover = OutlierRemover(n_neighbors=20, contamination=0.02)"
   ]
  },
  {
   "cell_type": "markdown",
   "metadata": {},
   "source": [
    "#### Descritizing `instrumentalness`"
   ]
  },
  {
   "cell_type": "code",
   "execution_count": null,
   "metadata": {},
   "outputs": [],
   "source": [
    "from sklearn.cluster import KMeans\n",
    "\n",
    "scaler = StandardScaler()\n",
    "X_subset = train_knnimp[['instrumentalness']]\n",
    "X_subset = scaler.fit_transform(X_subset)\n",
    "\n",
    "kmeans = KMeans(n_clusters=5, random_state=0).fit(X_subset)\n",
    "labels = kmeans.labels_"
   ]
  }
 ],
 "metadata": {
  "interpreter": {
   "hash": "8a43319817bbc639f2299510b5445ad447bf1e0c8ec9e6531fb6bcc2536c660b"
  },
  "kernelspec": {
   "display_name": "Python 3.9.7 ('ml')",
   "language": "python",
   "name": "python3"
  },
  "language_info": {
   "codemirror_mode": {
    "name": "ipython",
    "version": 3
   },
   "file_extension": ".py",
   "mimetype": "text/x-python",
   "name": "python",
   "nbconvert_exporter": "python",
   "pygments_lexer": "ipython3",
   "version": "3.9.7"
  },
  "orig_nbformat": 4
 },
 "nbformat": 4,
 "nbformat_minor": 2
}
